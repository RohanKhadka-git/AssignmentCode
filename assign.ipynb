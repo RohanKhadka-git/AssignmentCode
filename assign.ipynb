{
 "cells": [
  {
   "cell_type": "code",
   "execution_count": 1,
   "id": "bab623f8-b3eb-49a2-accc-f1f3aa07a75c",
   "metadata": {},
   "outputs": [
    {
     "name": "stdout",
     "output_type": "stream",
     "text": [
      "Welcome to the Basic Calculator!\n",
      "Operations available:\n",
      "1. Addition (+)\n",
      "2. Subtraction (-)\n",
      "3. Multiplication (*)\n",
      "4. Division (/)\n",
      "5. Exit\n"
     ]
    },
    {
     "name": "stdin",
     "output_type": "stream",
     "text": [
      "Enter operation choice (1/2/3/4/5):  2\n",
      "Enter first number:  7\n",
      "Enter second number:  8\n"
     ]
    },
    {
     "name": "stdout",
     "output_type": "stream",
     "text": [
      "Result: 7.0 - 8.0 = -1.0\n",
      "\n"
     ]
    },
    {
     "name": "stdin",
     "output_type": "stream",
     "text": [
      "Enter operation choice (1/2/3/4/5):  3\n",
      "Enter first number:  7\n",
      "Enter second number:  9\n"
     ]
    },
    {
     "name": "stdout",
     "output_type": "stream",
     "text": [
      "Result: 7.0 * 9.0 = 63.0\n",
      "\n"
     ]
    },
    {
     "name": "stdin",
     "output_type": "stream",
     "text": [
      "Enter operation choice (1/2/3/4/5):  4\n",
      "Enter first number:  6\n",
      "Enter second number:  9\n"
     ]
    },
    {
     "name": "stdout",
     "output_type": "stream",
     "text": [
      "Result: 6.0 / 9.0 = 0.6666666666666666\n",
      "\n"
     ]
    },
    {
     "name": "stdin",
     "output_type": "stream",
     "text": [
      "Enter operation choice (1/2/3/4/5):  5\n"
     ]
    },
    {
     "name": "stdout",
     "output_type": "stream",
     "text": [
      "Exiting calculator. Goodbye!\n"
     ]
    }
   ],
   "source": [
    "def calculator():\n",
    "    print(\"Welcome to the Basic Calculator!\")\n",
    "    print(\"Operations available:\")\n",
    "    print(\"1. Addition (+)\")\n",
    "    print(\"2. Subtraction (-)\")\n",
    "    print(\"3. Multiplication (*)\")\n",
    "    print(\"4. Division (/)\")\n",
    "    print(\"5. Exit\")\n",
    "    \n",
    "    while True:\n",
    "        try:\n",
    "            # Get user choice\n",
    "            choice = input(\"Enter operation choice (1/2/3/4/5): \")\n",
    "            \n",
    "            if choice == '5':\n",
    "                print(\"Exiting calculator. Goodbye!\")\n",
    "                break\n",
    "                \n",
    "            if choice not in ('1', '2', '3', '4'):\n",
    "                print(\"Invalid input. Please enter 1, 2, 3, 4, or 5.\")\n",
    "                continue\n",
    "                \n",
    "            # Get numbers from user\n",
    "            num1 = float(input(\"Enter first number: \"))\n",
    "            num2 = float(input(\"Enter second number: \"))\n",
    "            \n",
    "            # Perform calculation based on choice\n",
    "            if choice == '1':\n",
    "                print(f\"Result: {num1} + {num2} = {num1 + num2}\")\n",
    "            elif choice == '2':\n",
    "                print(f\"Result: {num1} - {num2} = {num1 - num2}\")\n",
    "            elif choice == '3':\n",
    "                print(f\"Result: {num1} * {num2} = {num1 * num2}\")\n",
    "            elif choice == '4':\n",
    "                if num2 == 0:\n",
    "                    print(\"Error! Division by zero is not allowed.\")\n",
    "                else:\n",
    "                    print(f\"Result: {num1} / {num2} = {num1 / num2}\")\n",
    "                    \n",
    "        except ValueError:\n",
    "            print(\"Invalid input. Please enter numeric values.\")\n",
    "        except Exception as e:\n",
    "            print(f\"An error occurred: {e}\")\n",
    "            \n",
    "        print()  # Add empty line for better readability\n",
    "\n",
    "# Run the calculator\n",
    "if __name__ == \"__main__\":\n",
    "    calculator()"
   ]
  },
  {
   "cell_type": "code",
   "execution_count": 17,
   "id": "d1a00d01-1620-4fd2-ae74-2dd731f701e2",
   "metadata": {},
   "outputs": [
    {
     "name": "stdin",
     "output_type": "stream",
     "text": [
      "enter ur age: 15\n"
     ]
    },
    {
     "name": "stdout",
     "output_type": "stream",
     "text": [
      "you are minor\n"
     ]
    }
   ],
   "source": [
    "age = int(input(\"enter ur age:\"))\n",
    "if age<18:\n",
    "    print(\"you are minor\")\n",
    "elif age<65:\n",
    "    print(\"you are adult\")\n",
    "else:\n",
    "    print(\"you are senior\")\n"
   ]
  },
  {
   "cell_type": "code",
   "execution_count": 20,
   "id": "c1a1070a-4f9e-41b4-b038-0ea2408587be",
   "metadata": {},
   "outputs": [
    {
     "name": "stdout",
     "output_type": "stream",
     "text": [
      "before swapping\n",
      "a = 5\n",
      "b = 4\n",
      "\n",
      " after swapping\n",
      "a = 5\n",
      "b = 4\n"
     ]
    }
   ],
   "source": [
    "#swap two variable\n",
    "a=5\n",
    "b=4\n",
    "print(\"before swapping\")\n",
    "print(\"a =\",a)\n",
    "print(\"b =\",b)\n",
    "print(\"\\n after swapping\")\n",
    "print(\"a =\",a)\n",
    "print(\"b =\",b)\n"
   ]
  },
  {
   "cell_type": "code",
   "execution_count": 21,
   "id": "0cf9951d-ad0b-462f-825b-17547f057f59",
   "metadata": {},
   "outputs": [
    {
     "name": "stdout",
     "output_type": "stream",
     "text": [
      "First 10 Fibonacci numbers (iterative):\n",
      "0 1 1 2 3 5 8 13 21 34 "
     ]
    }
   ],
   "source": [
    "#print first 10 fibonacci series\n",
    "def fibonacci_iterative(n):\n",
    "    a, b = 0, 1\n",
    "    for _ in range(n):\n",
    "        print(a, end=\" \")\n",
    "        a, b = b, a + b\n",
    "\n",
    "print(\"First 10 Fibonacci numbers (iterative):\")\n",
    "fibonacci_iterative(10)"
   ]
  },
  {
   "cell_type": "code",
   "execution_count": 26,
   "id": "6dc02411-edeb-4368-9f5f-638cac643c04",
   "metadata": {},
   "outputs": [
    {
     "name": "stdin",
     "output_type": "stream",
     "text": [
      "Enter a number to check if it's prime:  5\n"
     ]
    },
    {
     "name": "stdout",
     "output_type": "stream",
     "text": [
      "5 is a prime number.\n"
     ]
    }
   ],
   "source": [
    "#check prime or not\n",
    "def is_prime(n):\n",
    "    \"\"\"Check if a number is prime.\"\"\"\n",
    "    if n <= 1:\n",
    "        return False\n",
    "    if n == 2:\n",
    "        return True\n",
    "    if n % 2 == 0:\n",
    "        return False\n",
    "    \n",
    "    # Check divisors up to square root of n\n",
    "    for i in range(3, int(n**0.5) + 1, 2):\n",
    "        if n % i == 0:\n",
    "            return False\n",
    "    return True\n",
    "\n",
    "# Get user input\n",
    "num = int(input(\"Enter a number to check if it's prime: \"))\n",
    "\n",
    "# Check and display result\n",
    "if is_prime(num):\n",
    "    print(f\"{num} is a prime number.\")\n",
    "else:\n",
    "    print(f\"{num} is not a prime number.\")"
   ]
  },
  {
   "cell_type": "code",
   "execution_count": 29,
   "id": "c34680bd-9ba5-4361-98bd-c01798f2836b",
   "metadata": {},
   "outputs": [
    {
     "name": "stdin",
     "output_type": "stream",
     "text": [
      "Enter first number:  4\n",
      "Enter second number:  5\n",
      "Enter third number:  9\n"
     ]
    },
    {
     "name": "stdout",
     "output_type": "stream",
     "text": [
      "9.0 is equal to the sum of 4.0 and 5.0\n"
     ]
    }
   ],
   "source": [
    "# Get three numbers from the user\n",
    "num1 = float(input(\"Enter first number: \"))\n",
    "num2 = float(input(\"Enter second number: \"))\n",
    "num3 = float(input(\"Enter third number: \"))\n",
    "\n",
    "# Check if num3 is the sum of num1 and num2 using logical operators\n",
    "if (num1 + num2 == num3):\n",
    "    print(f\"{num3} is equal to the sum of {num1} and {num2}\")\n",
    "else:\n",
    "    print(f\"{num3} is NOT equal to the sum of {num1} and {num2}\")"
   ]
  },
  {
   "cell_type": "code",
   "execution_count": 59,
   "id": "d6bd722d-a1c6-45b9-8228-cca53ab64970",
   "metadata": {},
   "outputs": [],
   "source": [
    "# my_factorial.py - Custom factorial function\n",
    "def fact(n):\n",
    "    ans = 1\n",
    "    for i in range(1, n + 1):\n",
    "        ans *= i\n",
    "    return ans"
   ]
  },
  {
   "cell_type": "code",
   "execution_count": 64,
   "id": "35bec049-d31a-4a02-b849-6e4dfa1fef51",
   "metadata": {},
   "outputs": [
    {
     "ename": "ModuleNotFoundError",
     "evalue": "No module named 'my_factorial'",
     "output_type": "error",
     "traceback": [
      "\u001b[1;31m---------------------------------------------------------------------------\u001b[0m",
      "\u001b[1;31mModuleNotFoundError\u001b[0m                       Traceback (most recent call last)",
      "Cell \u001b[1;32mIn[64], line 2\u001b[0m\n\u001b[0;32m      1\u001b[0m \u001b[38;5;66;03m# main.py - Uses the custom module\u001b[39;00m\n\u001b[1;32m----> 2\u001b[0m \u001b[38;5;28;01mimport\u001b[39;00m \u001b[38;5;21;01mmy_factorial\u001b[39;00m\n\u001b[0;32m      3\u001b[0m n \u001b[38;5;241m=\u001b[39m \u001b[38;5;28mint\u001b[39m(\u001b[38;5;28minput\u001b[39m(\u001b[38;5;124m\"\u001b[39m\u001b[38;5;124mEnter a number: \u001b[39m\u001b[38;5;124m\"\u001b[39m))\n\u001b[0;32m      4\u001b[0m \u001b[38;5;28mprint\u001b[39m(\u001b[38;5;124mf\u001b[39m\u001b[38;5;124m\"\u001b[39m\u001b[38;5;124mFactorial of \u001b[39m\u001b[38;5;132;01m{\u001b[39;00mn\u001b[38;5;132;01m}\u001b[39;00m\u001b[38;5;124m = my_factorial.\u001b[39m\u001b[38;5;132;01m{\u001b[39;00mfact(n)\u001b[38;5;132;01m}\u001b[39;00m\u001b[38;5;124m\"\u001b[39m)\n",
      "\u001b[1;31mModuleNotFoundError\u001b[0m: No module named 'my_factorial'"
     ]
    }
   ],
   "source": [
    "# main.py - Uses the custom module\n",
    "import my_factorial\n",
    "n = int(input(\"Enter a number: \"))\n",
    "print(f\"Factorial of {n} = {fact(n)}\")"
   ]
  },
  {
   "cell_type": "code",
   "execution_count": 65,
   "id": "6ae60a45-9ff1-49c7-9791-dc22423bdb04",
   "metadata": {},
   "outputs": [
    {
     "name": "stdin",
     "output_type": "stream",
     "text": [
      "Enter a string:  rohan\n"
     ]
    },
    {
     "name": "stdout",
     "output_type": "stream",
     "text": [
      "Number of vowels in 'rohan': 2\n"
     ]
    }
   ],
   "source": [
    "def count_vowels(text):\n",
    "    \"\"\"Count the number of vowels in a string (case-insensitive)\"\"\"\n",
    "    vowels = \"aeiou\"\n",
    "    count = 0\n",
    "    for char in text.lower():\n",
    "        if char in vowels:\n",
    "            count += 1\n",
    "    return count\n",
    "\n",
    "# Get input from user\n",
    "user_input = input(\"Enter a string: \")\n",
    "result = count_vowels(user_input)\n",
    "\n",
    "# Display the result\n",
    "print(f\"Number of vowels in '{user_input}': {result}\")"
   ]
  },
  {
   "cell_type": "code",
   "execution_count": 66,
   "id": "089728ee-b63a-4038-908d-e6041a9d3bfe",
   "metadata": {},
   "outputs": [
    {
     "name": "stdin",
     "output_type": "stream",
     "text": [
      "Enter a number:  8\n"
     ]
    },
    {
     "name": "stdout",
     "output_type": "stream",
     "text": [
      "Multiplication table for 8:\n",
      "8 × 1 = 8\n",
      "8 × 2 = 16\n",
      "8 × 3 = 24\n",
      "8 × 4 = 32\n",
      "8 × 5 = 40\n",
      "8 × 6 = 48\n",
      "8 × 7 = 56\n",
      "8 × 8 = 64\n",
      "8 × 9 = 72\n",
      "8 × 10 = 80\n"
     ]
    }
   ],
   "source": [
    "def print_multiplication_table(num):\n",
    "    \"\"\"Prints multiplication table for the given number up to 10 times\"\"\"\n",
    "    print(f\"Multiplication table for {num}:\")\n",
    "    for i in range(1, 11):\n",
    "        print(f\"{num} × {i} = {num * i}\")\n",
    "\n",
    "# Get input from user\n",
    "number = int(input(\"Enter a number: \"))\n",
    "print_multiplication_table(number)"
   ]
  },
  {
   "cell_type": "code",
   "execution_count": 67,
   "id": "45e4597f-4e73-49b6-b383-01d6de78dc6a",
   "metadata": {},
   "outputs": [
    {
     "name": "stdin",
     "output_type": "stream",
     "text": [
      "Enter number of rows:  5\n"
     ]
    },
    {
     "name": "stdout",
     "output_type": "stream",
     "text": [
      "* \n",
      "* * \n",
      "* * * \n",
      "* * * * \n",
      "* * * * * \n"
     ]
    }
   ],
   "source": [
    "def print_right_angle_triangle(rows):\n",
    "    \"\"\"Prints a right-angle triangle pattern with * in vertical form\"\"\"\n",
    "    for i in range(1, rows + 1):\n",
    "        print('* ' * i)\n",
    "\n",
    "# Get user input for number of rows\n",
    "num_rows = int(input(\"Enter number of rows: \"))\n",
    "print_right_angle_triangle(num_rows)"
   ]
  },
  {
   "cell_type": "code",
   "execution_count": 68,
   "id": "08a9d10a-db4e-4711-bea9-4f0bf2f794b6",
   "metadata": {},
   "outputs": [
    {
     "name": "stdin",
     "output_type": "stream",
     "text": [
      "Enter number of rows for the pyramid:  5\n"
     ]
    },
    {
     "name": "stdout",
     "output_type": "stream",
     "text": [
      "    * \n",
      "   * * \n",
      "  * * * \n",
      " * * * * \n",
      "* * * * * \n"
     ]
    }
   ],
   "source": [
    "def print_pyramid(rows):\n",
    "    \"\"\"Prints a pyramid pattern with * for the given number of rows\"\"\"\n",
    "    for i in range(1, rows + 1):\n",
    "        # Print leading spaces\n",
    "        print(' ' * (rows - i), end='')\n",
    "        # Print stars\n",
    "        print('* ' * i)\n",
    "\n",
    "# Get user input for number of rows\n",
    "num_rows = int(input(\"Enter number of rows for the pyramid: \"))\n",
    "print_pyramid(num_rows)"
   ]
  },
  {
   "cell_type": "code",
   "execution_count": 69,
   "id": "8de061fe-72c8-40f7-a335-2c3939fa9874",
   "metadata": {},
   "outputs": [
    {
     "name": "stdout",
     "output_type": "stream",
     "text": [
      "9\n"
     ]
    }
   ],
   "source": [
    "def find_max(numbers):\n",
    "    \"\"\"Returns the maximum value in a list of numbers\"\"\"\n",
    "    return max(numbers) if numbers else None  # Handles empty lists\n",
    "\n",
    "# Example usage:\n",
    "numbers = [4, 2, 9, 7, 5, 1]\n",
    "print(find_max(numbers))"
   ]
  },
  {
   "cell_type": "code",
   "execution_count": 42,
   "id": "570a2b38-6606-43a0-810c-eeef5f75a2c1",
   "metadata": {},
   "outputs": [
    {
     "name": "stdin",
     "output_type": "stream",
     "text": [
      "Enter a number:  121\n"
     ]
    },
    {
     "name": "stdout",
     "output_type": "stream",
     "text": [
      "121 is a palindrome\n"
     ]
    }
   ],
   "source": [
    "def is_palindrome(num):\n",
    "    original = num\n",
    "    reversed_num = 0\n",
    "    \n",
    "    # Handle negative numbers (they can't be palindromes)\n",
    "    if num < 0:\n",
    "        return False\n",
    "    \n",
    "    # Reverse the number\n",
    "    while num > 0:\n",
    "        digit = num % 10\n",
    "        reversed_num = reversed_num * 10 + digit\n",
    "        num = num // 10\n",
    "    \n",
    "    return original == reversed_num\n",
    "\n",
    "# Test the function\n",
    "number = int(input(\"Enter a number: \"))\n",
    "if is_palindrome(number):\n",
    "    print(f\"{number} is a palindrome\")\n",
    "else:\n",
    "    print(f\"{number} is not a palindrome\")"
   ]
  },
  {
   "cell_type": "code",
   "execution_count": 4,
   "id": "2c519f5e-b4d2-4a80-b6bf-8f27b8b889e7",
   "metadata": {},
   "outputs": [
    {
     "name": "stdout",
     "output_type": "stream",
     "text": [
      "[0, 1]\n"
     ]
    }
   ],
   "source": [
    "def twoSum(nums, target):\n",
    "    for i in range(len(nums)):\n",
    "        for j in range(i + 1, len(nums)):\n",
    "            if nums[i] + nums[j] == target:\n",
    "                return [i, j]\n",
    "    return []  # As per problem statement, this line won't be reached\n",
    "nums = [2, 7, 11, 15]\n",
    "target = 9\n",
    "print(twoSum(nums, target))  # Output: [0, 1] because nums[0] + nums[1] = 2 + 7 = 9"
   ]
  },
  {
   "cell_type": "code",
   "execution_count": 32,
   "id": "4818a842-33dc-49e9-a8df-3500b4852ae5",
   "metadata": {},
   "outputs": [
    {
     "name": "stdout",
     "output_type": "stream",
     "text": [
      "1\n"
     ]
    }
   ],
   "source": [
    "def single_number(nums):\n",
    "    result = 0\n",
    "    for num in nums:\n",
    "        result ^= num\n",
    "    return result\n",
    "nums = [2, 2, 1]\n",
    "print(single_number(nums))"
   ]
  },
  {
   "cell_type": "code",
   "execution_count": null,
   "id": "2c8e19ef-d9ed-477c-af16-3d7e75b43d3e",
   "metadata": {},
   "outputs": [],
   "source": [
    "def contains_duplicate(nums):\n",
    "    return len(nums) != len(set(nums))\n",
    "    nums=[1,1,2,3]\n",
    "    print(contains_duplicate(nums))"
   ]
  },
  {
   "cell_type": "code",
   "execution_count": null,
   "id": "f4233f45-e2f0-4b72-8991-e488ff000d9d",
   "metadata": {},
   "outputs": [],
   "source": [
    "def isHappyNumber(n):\n",
    "    rem=sum=0\n",
    "    while n>0:\n",
    "        rem=n%10\n",
    "        sum=sum+(rem*rem)\n",
    "        n=n//10\n",
    "        return sum\n",
    "\n",
    "n=int(input(\"enter number\"))\n",
    "result=num\n",
    "while result!=1 and result!=0:\n",
    "    result=isHappyNumber\n",
    "    print(str(n)+\"is a HappyNumber\")\n",
    "    elif:\n",
    "    result=1\n",
    "    print(str(n)+\"is not HappyNumber\")"
   ]
  },
  {
   "cell_type": "code",
   "execution_count": null,
   "id": "e8238c93-0b17-4305-bb82-72b7ceb8f885",
   "metadata": {},
   "outputs": [],
   "source": []
  }
 ],
 "metadata": {
  "kernelspec": {
   "display_name": "Python 3 (ipykernel)",
   "language": "python",
   "name": "python3"
  },
  "language_info": {
   "codemirror_mode": {
    "name": "ipython",
    "version": 3
   },
   "file_extension": ".py",
   "mimetype": "text/x-python",
   "name": "python",
   "nbconvert_exporter": "python",
   "pygments_lexer": "ipython3",
   "version": "3.12.7"
  }
 },
 "nbformat": 4,
 "nbformat_minor": 5
}
